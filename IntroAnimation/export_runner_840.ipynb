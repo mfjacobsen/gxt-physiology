{
 "cells": [
  {
   "cell_type": "code",
   "execution_count": null,
   "id": "8fdd57b2",
   "metadata": {},
   "outputs": [],
   "source": [
    "This file is used to preprocess and export data on runner 840 for the introduciton visualization"
   ]
  },
  {
   "cell_type": "code",
   "execution_count": 1,
   "id": "247a6db1",
   "metadata": {},
   "outputs": [],
   "source": [
    "import numpy as np\n",
    "import pandas as pd\n",
    "import plotly.express as px\n",
    "import plotly.graph_objects as go\n",
    "import plotly.colors as pc\n",
    "from plotly.subplots import make_subplots\n"
   ]
  },
  {
   "cell_type": "code",
   "execution_count": null,
   "id": "b5dee4d9",
   "metadata": {},
   "outputs": [
    {
     "ename": "FileNotFoundError",
     "evalue": "[Errno 2] No such file or directory: '../gxt-physiology/data/treadmill/subject-info.csv'",
     "output_type": "error",
     "traceback": [
      "\u001b[1;31m---------------------------------------------------------------------------\u001b[0m",
      "\u001b[1;31mFileNotFoundError\u001b[0m                         Traceback (most recent call last)",
      "Cell \u001b[1;32mIn[2], line 2\u001b[0m\n\u001b[0;32m      1\u001b[0m \u001b[38;5;66;03m# Read data \u001b[39;00m\n\u001b[1;32m----> 2\u001b[0m subjects \u001b[38;5;241m=\u001b[39m \u001b[43mpd\u001b[49m\u001b[38;5;241;43m.\u001b[39;49m\u001b[43mread_csv\u001b[49m\u001b[43m(\u001b[49m\u001b[38;5;124;43m\"\u001b[39;49m\u001b[38;5;124;43m../gxt-physiology/data/treadmill/subject-info.csv\u001b[39;49m\u001b[38;5;124;43m\"\u001b[39;49m\u001b[43m)\u001b[49m\n\u001b[0;32m      3\u001b[0m measures \u001b[38;5;241m=\u001b[39m pd\u001b[38;5;241m.\u001b[39mread_csv(\u001b[38;5;124m\"\u001b[39m\u001b[38;5;124m../gxt-physiology/data/treadmill/test_measure.csv\u001b[39m\u001b[38;5;124m\"\u001b[39m)\n\u001b[0;32m      5\u001b[0m subjects \u001b[38;5;241m=\u001b[39m subjects\u001b[38;5;241m.\u001b[39msort_values(by\u001b[38;5;241m=\u001b[39m[\u001b[38;5;124m\"\u001b[39m\u001b[38;5;124mID_test\u001b[39m\u001b[38;5;124m\"\u001b[39m])\n",
      "File \u001b[1;32mc:\\Users\\kchri\\miniforge3\\envs\\dsc80\\Lib\\site-packages\\pandas\\io\\parsers\\readers.py:1026\u001b[0m, in \u001b[0;36mread_csv\u001b[1;34m(filepath_or_buffer, sep, delimiter, header, names, index_col, usecols, dtype, engine, converters, true_values, false_values, skipinitialspace, skiprows, skipfooter, nrows, na_values, keep_default_na, na_filter, verbose, skip_blank_lines, parse_dates, infer_datetime_format, keep_date_col, date_parser, date_format, dayfirst, cache_dates, iterator, chunksize, compression, thousands, decimal, lineterminator, quotechar, quoting, doublequote, escapechar, comment, encoding, encoding_errors, dialect, on_bad_lines, delim_whitespace, low_memory, memory_map, float_precision, storage_options, dtype_backend)\u001b[0m\n\u001b[0;32m   1013\u001b[0m kwds_defaults \u001b[38;5;241m=\u001b[39m _refine_defaults_read(\n\u001b[0;32m   1014\u001b[0m     dialect,\n\u001b[0;32m   1015\u001b[0m     delimiter,\n\u001b[1;32m   (...)\u001b[0m\n\u001b[0;32m   1022\u001b[0m     dtype_backend\u001b[38;5;241m=\u001b[39mdtype_backend,\n\u001b[0;32m   1023\u001b[0m )\n\u001b[0;32m   1024\u001b[0m kwds\u001b[38;5;241m.\u001b[39mupdate(kwds_defaults)\n\u001b[1;32m-> 1026\u001b[0m \u001b[38;5;28;01mreturn\u001b[39;00m \u001b[43m_read\u001b[49m\u001b[43m(\u001b[49m\u001b[43mfilepath_or_buffer\u001b[49m\u001b[43m,\u001b[49m\u001b[43m \u001b[49m\u001b[43mkwds\u001b[49m\u001b[43m)\u001b[49m\n",
      "File \u001b[1;32mc:\\Users\\kchri\\miniforge3\\envs\\dsc80\\Lib\\site-packages\\pandas\\io\\parsers\\readers.py:620\u001b[0m, in \u001b[0;36m_read\u001b[1;34m(filepath_or_buffer, kwds)\u001b[0m\n\u001b[0;32m    617\u001b[0m _validate_names(kwds\u001b[38;5;241m.\u001b[39mget(\u001b[38;5;124m\"\u001b[39m\u001b[38;5;124mnames\u001b[39m\u001b[38;5;124m\"\u001b[39m, \u001b[38;5;28;01mNone\u001b[39;00m))\n\u001b[0;32m    619\u001b[0m \u001b[38;5;66;03m# Create the parser.\u001b[39;00m\n\u001b[1;32m--> 620\u001b[0m parser \u001b[38;5;241m=\u001b[39m \u001b[43mTextFileReader\u001b[49m\u001b[43m(\u001b[49m\u001b[43mfilepath_or_buffer\u001b[49m\u001b[43m,\u001b[49m\u001b[43m \u001b[49m\u001b[38;5;241;43m*\u001b[39;49m\u001b[38;5;241;43m*\u001b[39;49m\u001b[43mkwds\u001b[49m\u001b[43m)\u001b[49m\n\u001b[0;32m    622\u001b[0m \u001b[38;5;28;01mif\u001b[39;00m chunksize \u001b[38;5;129;01mor\u001b[39;00m iterator:\n\u001b[0;32m    623\u001b[0m     \u001b[38;5;28;01mreturn\u001b[39;00m parser\n",
      "File \u001b[1;32mc:\\Users\\kchri\\miniforge3\\envs\\dsc80\\Lib\\site-packages\\pandas\\io\\parsers\\readers.py:1620\u001b[0m, in \u001b[0;36mTextFileReader.__init__\u001b[1;34m(self, f, engine, **kwds)\u001b[0m\n\u001b[0;32m   1617\u001b[0m     \u001b[38;5;28mself\u001b[39m\u001b[38;5;241m.\u001b[39moptions[\u001b[38;5;124m\"\u001b[39m\u001b[38;5;124mhas_index_names\u001b[39m\u001b[38;5;124m\"\u001b[39m] \u001b[38;5;241m=\u001b[39m kwds[\u001b[38;5;124m\"\u001b[39m\u001b[38;5;124mhas_index_names\u001b[39m\u001b[38;5;124m\"\u001b[39m]\n\u001b[0;32m   1619\u001b[0m \u001b[38;5;28mself\u001b[39m\u001b[38;5;241m.\u001b[39mhandles: IOHandles \u001b[38;5;241m|\u001b[39m \u001b[38;5;28;01mNone\u001b[39;00m \u001b[38;5;241m=\u001b[39m \u001b[38;5;28;01mNone\u001b[39;00m\n\u001b[1;32m-> 1620\u001b[0m \u001b[38;5;28mself\u001b[39m\u001b[38;5;241m.\u001b[39m_engine \u001b[38;5;241m=\u001b[39m \u001b[38;5;28;43mself\u001b[39;49m\u001b[38;5;241;43m.\u001b[39;49m\u001b[43m_make_engine\u001b[49m\u001b[43m(\u001b[49m\u001b[43mf\u001b[49m\u001b[43m,\u001b[49m\u001b[43m \u001b[49m\u001b[38;5;28;43mself\u001b[39;49m\u001b[38;5;241;43m.\u001b[39;49m\u001b[43mengine\u001b[49m\u001b[43m)\u001b[49m\n",
      "File \u001b[1;32mc:\\Users\\kchri\\miniforge3\\envs\\dsc80\\Lib\\site-packages\\pandas\\io\\parsers\\readers.py:1880\u001b[0m, in \u001b[0;36mTextFileReader._make_engine\u001b[1;34m(self, f, engine)\u001b[0m\n\u001b[0;32m   1878\u001b[0m     \u001b[38;5;28;01mif\u001b[39;00m \u001b[38;5;124m\"\u001b[39m\u001b[38;5;124mb\u001b[39m\u001b[38;5;124m\"\u001b[39m \u001b[38;5;129;01mnot\u001b[39;00m \u001b[38;5;129;01min\u001b[39;00m mode:\n\u001b[0;32m   1879\u001b[0m         mode \u001b[38;5;241m+\u001b[39m\u001b[38;5;241m=\u001b[39m \u001b[38;5;124m\"\u001b[39m\u001b[38;5;124mb\u001b[39m\u001b[38;5;124m\"\u001b[39m\n\u001b[1;32m-> 1880\u001b[0m \u001b[38;5;28mself\u001b[39m\u001b[38;5;241m.\u001b[39mhandles \u001b[38;5;241m=\u001b[39m \u001b[43mget_handle\u001b[49m\u001b[43m(\u001b[49m\n\u001b[0;32m   1881\u001b[0m \u001b[43m    \u001b[49m\u001b[43mf\u001b[49m\u001b[43m,\u001b[49m\n\u001b[0;32m   1882\u001b[0m \u001b[43m    \u001b[49m\u001b[43mmode\u001b[49m\u001b[43m,\u001b[49m\n\u001b[0;32m   1883\u001b[0m \u001b[43m    \u001b[49m\u001b[43mencoding\u001b[49m\u001b[38;5;241;43m=\u001b[39;49m\u001b[38;5;28;43mself\u001b[39;49m\u001b[38;5;241;43m.\u001b[39;49m\u001b[43moptions\u001b[49m\u001b[38;5;241;43m.\u001b[39;49m\u001b[43mget\u001b[49m\u001b[43m(\u001b[49m\u001b[38;5;124;43m\"\u001b[39;49m\u001b[38;5;124;43mencoding\u001b[39;49m\u001b[38;5;124;43m\"\u001b[39;49m\u001b[43m,\u001b[49m\u001b[43m \u001b[49m\u001b[38;5;28;43;01mNone\u001b[39;49;00m\u001b[43m)\u001b[49m\u001b[43m,\u001b[49m\n\u001b[0;32m   1884\u001b[0m \u001b[43m    \u001b[49m\u001b[43mcompression\u001b[49m\u001b[38;5;241;43m=\u001b[39;49m\u001b[38;5;28;43mself\u001b[39;49m\u001b[38;5;241;43m.\u001b[39;49m\u001b[43moptions\u001b[49m\u001b[38;5;241;43m.\u001b[39;49m\u001b[43mget\u001b[49m\u001b[43m(\u001b[49m\u001b[38;5;124;43m\"\u001b[39;49m\u001b[38;5;124;43mcompression\u001b[39;49m\u001b[38;5;124;43m\"\u001b[39;49m\u001b[43m,\u001b[49m\u001b[43m \u001b[49m\u001b[38;5;28;43;01mNone\u001b[39;49;00m\u001b[43m)\u001b[49m\u001b[43m,\u001b[49m\n\u001b[0;32m   1885\u001b[0m \u001b[43m    \u001b[49m\u001b[43mmemory_map\u001b[49m\u001b[38;5;241;43m=\u001b[39;49m\u001b[38;5;28;43mself\u001b[39;49m\u001b[38;5;241;43m.\u001b[39;49m\u001b[43moptions\u001b[49m\u001b[38;5;241;43m.\u001b[39;49m\u001b[43mget\u001b[49m\u001b[43m(\u001b[49m\u001b[38;5;124;43m\"\u001b[39;49m\u001b[38;5;124;43mmemory_map\u001b[39;49m\u001b[38;5;124;43m\"\u001b[39;49m\u001b[43m,\u001b[49m\u001b[43m \u001b[49m\u001b[38;5;28;43;01mFalse\u001b[39;49;00m\u001b[43m)\u001b[49m\u001b[43m,\u001b[49m\n\u001b[0;32m   1886\u001b[0m \u001b[43m    \u001b[49m\u001b[43mis_text\u001b[49m\u001b[38;5;241;43m=\u001b[39;49m\u001b[43mis_text\u001b[49m\u001b[43m,\u001b[49m\n\u001b[0;32m   1887\u001b[0m \u001b[43m    \u001b[49m\u001b[43merrors\u001b[49m\u001b[38;5;241;43m=\u001b[39;49m\u001b[38;5;28;43mself\u001b[39;49m\u001b[38;5;241;43m.\u001b[39;49m\u001b[43moptions\u001b[49m\u001b[38;5;241;43m.\u001b[39;49m\u001b[43mget\u001b[49m\u001b[43m(\u001b[49m\u001b[38;5;124;43m\"\u001b[39;49m\u001b[38;5;124;43mencoding_errors\u001b[39;49m\u001b[38;5;124;43m\"\u001b[39;49m\u001b[43m,\u001b[49m\u001b[43m \u001b[49m\u001b[38;5;124;43m\"\u001b[39;49m\u001b[38;5;124;43mstrict\u001b[39;49m\u001b[38;5;124;43m\"\u001b[39;49m\u001b[43m)\u001b[49m\u001b[43m,\u001b[49m\n\u001b[0;32m   1888\u001b[0m \u001b[43m    \u001b[49m\u001b[43mstorage_options\u001b[49m\u001b[38;5;241;43m=\u001b[39;49m\u001b[38;5;28;43mself\u001b[39;49m\u001b[38;5;241;43m.\u001b[39;49m\u001b[43moptions\u001b[49m\u001b[38;5;241;43m.\u001b[39;49m\u001b[43mget\u001b[49m\u001b[43m(\u001b[49m\u001b[38;5;124;43m\"\u001b[39;49m\u001b[38;5;124;43mstorage_options\u001b[39;49m\u001b[38;5;124;43m\"\u001b[39;49m\u001b[43m,\u001b[49m\u001b[43m \u001b[49m\u001b[38;5;28;43;01mNone\u001b[39;49;00m\u001b[43m)\u001b[49m\u001b[43m,\u001b[49m\n\u001b[0;32m   1889\u001b[0m \u001b[43m\u001b[49m\u001b[43m)\u001b[49m\n\u001b[0;32m   1890\u001b[0m \u001b[38;5;28;01massert\u001b[39;00m \u001b[38;5;28mself\u001b[39m\u001b[38;5;241m.\u001b[39mhandles \u001b[38;5;129;01mis\u001b[39;00m \u001b[38;5;129;01mnot\u001b[39;00m \u001b[38;5;28;01mNone\u001b[39;00m\n\u001b[0;32m   1891\u001b[0m f \u001b[38;5;241m=\u001b[39m \u001b[38;5;28mself\u001b[39m\u001b[38;5;241m.\u001b[39mhandles\u001b[38;5;241m.\u001b[39mhandle\n",
      "File \u001b[1;32mc:\\Users\\kchri\\miniforge3\\envs\\dsc80\\Lib\\site-packages\\pandas\\io\\common.py:873\u001b[0m, in \u001b[0;36mget_handle\u001b[1;34m(path_or_buf, mode, encoding, compression, memory_map, is_text, errors, storage_options)\u001b[0m\n\u001b[0;32m    868\u001b[0m \u001b[38;5;28;01melif\u001b[39;00m \u001b[38;5;28misinstance\u001b[39m(handle, \u001b[38;5;28mstr\u001b[39m):\n\u001b[0;32m    869\u001b[0m     \u001b[38;5;66;03m# Check whether the filename is to be opened in binary mode.\u001b[39;00m\n\u001b[0;32m    870\u001b[0m     \u001b[38;5;66;03m# Binary mode does not support 'encoding' and 'newline'.\u001b[39;00m\n\u001b[0;32m    871\u001b[0m     \u001b[38;5;28;01mif\u001b[39;00m ioargs\u001b[38;5;241m.\u001b[39mencoding \u001b[38;5;129;01mand\u001b[39;00m \u001b[38;5;124m\"\u001b[39m\u001b[38;5;124mb\u001b[39m\u001b[38;5;124m\"\u001b[39m \u001b[38;5;129;01mnot\u001b[39;00m \u001b[38;5;129;01min\u001b[39;00m ioargs\u001b[38;5;241m.\u001b[39mmode:\n\u001b[0;32m    872\u001b[0m         \u001b[38;5;66;03m# Encoding\u001b[39;00m\n\u001b[1;32m--> 873\u001b[0m         handle \u001b[38;5;241m=\u001b[39m \u001b[38;5;28;43mopen\u001b[39;49m\u001b[43m(\u001b[49m\n\u001b[0;32m    874\u001b[0m \u001b[43m            \u001b[49m\u001b[43mhandle\u001b[49m\u001b[43m,\u001b[49m\n\u001b[0;32m    875\u001b[0m \u001b[43m            \u001b[49m\u001b[43mioargs\u001b[49m\u001b[38;5;241;43m.\u001b[39;49m\u001b[43mmode\u001b[49m\u001b[43m,\u001b[49m\n\u001b[0;32m    876\u001b[0m \u001b[43m            \u001b[49m\u001b[43mencoding\u001b[49m\u001b[38;5;241;43m=\u001b[39;49m\u001b[43mioargs\u001b[49m\u001b[38;5;241;43m.\u001b[39;49m\u001b[43mencoding\u001b[49m\u001b[43m,\u001b[49m\n\u001b[0;32m    877\u001b[0m \u001b[43m            \u001b[49m\u001b[43merrors\u001b[49m\u001b[38;5;241;43m=\u001b[39;49m\u001b[43merrors\u001b[49m\u001b[43m,\u001b[49m\n\u001b[0;32m    878\u001b[0m \u001b[43m            \u001b[49m\u001b[43mnewline\u001b[49m\u001b[38;5;241;43m=\u001b[39;49m\u001b[38;5;124;43m\"\u001b[39;49m\u001b[38;5;124;43m\"\u001b[39;49m\u001b[43m,\u001b[49m\n\u001b[0;32m    879\u001b[0m \u001b[43m        \u001b[49m\u001b[43m)\u001b[49m\n\u001b[0;32m    880\u001b[0m     \u001b[38;5;28;01melse\u001b[39;00m:\n\u001b[0;32m    881\u001b[0m         \u001b[38;5;66;03m# Binary mode\u001b[39;00m\n\u001b[0;32m    882\u001b[0m         handle \u001b[38;5;241m=\u001b[39m \u001b[38;5;28mopen\u001b[39m(handle, ioargs\u001b[38;5;241m.\u001b[39mmode)\n",
      "\u001b[1;31mFileNotFoundError\u001b[0m: [Errno 2] No such file or directory: '../gxt-physiology/data/treadmill/subject-info.csv'"
     ]
    }
   ],
   "source": [
    "# Read data \n",
    "subjects = pd.read_csv(\"../data/treadmill/subject-info.csv\")\n",
    "measures = pd.read_csv(\"../data/treadmill/test_measure.csv\")\n",
    "\n",
    "subjects = subjects.sort_values(by=[\"ID_test\"])\n",
    "measures = measures.sort_values(by=[\"ID_test\", \"time\"])\n",
    "\n",
    "# O2 and CO2 rates in ml/min, VE in l/min\n",
    "measures[\"O2_rate\"] = measures[\"VO2\"]\n",
    "measures[\"CO2_rate\"] = measures[\"VCO2\"]\n",
    "measures[\"air_rate\"] = measures[\"VE\"]\n",
    "\n",
    "# Compute volume for the given breath\n",
    "measures[\"O2_vol\"] = measures[\"O2_rate\"] / measures[\"RR\"]\n",
    "measures[\"CO2_vol\"] = measures[\"CO2_rate\"] / measures[\"RR\"]\n",
    "measures[\"air_vol\"] = measures[\"air_rate\"] / measures[\"RR\"]\n",
    "\n",
    "# Compute cumulative volume of for the given test\n",
    "measures[\"O2_cum\"] = measures.groupby(\"ID_test\")[\"O2_vol\"].cumsum()\n",
    "measures[\"CO2_cum\"] = measures.groupby(\"ID_test\")[\"CO2_vol\"].cumsum()\n",
    "measures[\"air_cum\"] = measures.groupby(\"ID_test\")[\"air_vol\"].cumsum()\n",
    "\n",
    "measures = measures.drop(columns=[\"VO2\", \"VCO2\", \"VE\"])\n",
    "\n",
    "# Define numerical features\n",
    "measures_numerical = {'time', 'Speed', 'HR', 'RR', 'O2_rate', 'CO2_rate',\n",
    "       'air_rate', 'O2_vol', 'CO2_vol', 'air_vol', 'O2_cum', 'CO2_cum',\n",
    "       'air_cum', 'Age', 'Weight', 'Height', 'Humidity', 'Temperature'}"
   ]
  },
  {
   "cell_type": "code",
   "execution_count": null,
   "id": "2da1b7d5",
   "metadata": {},
   "outputs": [],
   "source": [
    "# Normalizes the start times of the test from start speed of 5 km/h\n",
    "measures_test = measures[measures[\"Speed\"] > 5]\n",
    "normal_starts = measures_test.groupby(\"ID_test\")[\"time\"].transform(\"first\")\n",
    "measures_test.loc[:,\"time\"] = measures_test[\"time\"] - normal_starts\n",
    "\n",
    "# Normalizes the start times of the test from start speed of 6.1 km/h\n",
    "ids_slow = measures_test[(measures_test[\"Speed\"]==6.1) &(measures_test[\"time\"]>100)][\"ID_test\"].unique()\n",
    "first_steps = measures_test[measures_test[\"ID_test\"].isin(ids_slow) & (measures_test[\"Speed\"] > 6.1)].groupby(\"ID_test\")[\"time\"].first()\n",
    "measures_test.loc[:,\"time\"] = measures_test[\"time\"] - measures[\"ID_test\"].map(first_steps).fillna(0) + 60\n",
    "measures_test = measures_test[measures_test[\"time\"] > 0]\n",
    "\n",
    "# Remove tests with non-standard speeds increase rates\n",
    "outlier_ids = list(measures_test[(measures_test[\"time\"].between(276,301)) & (measures_test[\"Speed\"] > 11.4)][\"ID_test\"].unique())\n",
    "outlier_ids += [\"715_1\", \"796_1\", \"593_1\", \"789_1\", \"479_1\", \"73_1\", \"667_1\", \"318_1\", \"376_1\", \"695_1\"]\n",
    "measures_test = measures_test[(measures_test[\"time\"] > 0) & (~measures_test[\"ID_test\"].isin(outlier_ids))]\n",
    "\n",
    "# Remove cooldown periods\n",
    "measures_test = measures_test[~((measures_test[\"time\"] > 600) & (measures_test[\"Speed\"] < 12))]\n",
    "\n",
    "# Start all tests at time 0\n",
    "measures_test.loc[:,\"time\"] = measures_test[\"time\"] - measures_test.groupby(\"ID_test\")[\"time\"].transform(\"min\")"
   ]
  },
  {
   "cell_type": "code",
   "execution_count": null,
   "id": "fc57f49e",
   "metadata": {},
   "outputs": [],
   "source": [
    "# Average measures for each second\n",
    "measure_inter = measures_test.groupby([\"ID_test\", \"time\"]).mean()\n",
    "\n",
    "# Get max time achieved by each particpant\n",
    "max_secs = measures_test.groupby(\"ID_test\")[\"time\"].agg(\"max\")\n",
    "\n",
    "# Generate new index\n",
    "tuples = [\n",
    "    (id_test, second) \n",
    "    for id_test, max_second in max_secs.items() \n",
    "    for second in range(max_second + 1)\n",
    "]\n",
    "index = pd.MultiIndex.from_tuples(tuples, names=[\"ID_test\", \"time\"])\n",
    "\n",
    "# Reindex and interpolate\n",
    "measures_test = measure_inter.reindex(index).interpolate(method=\"linear\", limit_direction=\"both\").reset_index()\n",
    "measures_test.loc[:, \"ID\"] = measures_test[\"ID\"].astype(\"int\")"
   ]
  },
  {
   "cell_type": "code",
   "execution_count": null,
   "id": "b8273e59",
   "metadata": {},
   "outputs": [],
   "source": [
    "# Join with subjects\n",
    "measures_test = measures_test.merge(subjects, on=[\"ID_test\", \"ID\"], how=\"left\")\n",
    "\n",
    "# Compute max speed attained quintile\n",
    "measures_test[\"max_speed_quintile\"] = measures_test[\"ID_test\"].map(pd.qcut(measures_test.groupby(\"ID_test\")[\"time\"].max(), 5, labels=False))\n",
    "\n",
    "# Computes cumulative distance traveled\n",
    "def compute_distance(group):\n",
    "    t = group[\"time\"]\n",
    "    v = group[\"Speed\"]  # km/h\n",
    "\n",
    "    dt = t.diff().fillna(0) / 3600  # seconds → hours\n",
    "    v_avg = v.rolling(2).mean().bfill()\n",
    "\n",
    "    dist = v_avg * dt  # km\n",
    "    return dist.cumsum()\n",
    "\n",
    "# Compyte cumulative distance traveled\n",
    "measures_test = measures_test.sort_values([\"ID_test\", \"time\"])\n",
    "measures_test[\"dist_km\"] = (\n",
    "    measures_test.groupby(\"ID_test\", group_keys=False)[[\"time\", \"Speed\"]]\n",
    "                 .apply(compute_distance)\n",
    "                 .reset_index(drop=True))"
   ]
  },
  {
   "cell_type": "code",
   "execution_count": 4,
   "id": "cc3e1109",
   "metadata": {},
   "outputs": [
    {
     "ename": "NameError",
     "evalue": "name 'measures_test' is not defined",
     "output_type": "error",
     "traceback": [
      "\u001b[1;31m---------------------------------------------------------------------------\u001b[0m",
      "\u001b[1;31mNameError\u001b[0m                                 Traceback (most recent call last)",
      "Cell \u001b[1;32mIn[4], line 1\u001b[0m\n\u001b[1;32m----> 1\u001b[0m \u001b[43mmeasures_test\u001b[49m\n",
      "\u001b[1;31mNameError\u001b[0m: name 'measures_test' is not defined"
     ]
    }
   ],
   "source": [
    "measures_test"
   ]
  },
  {
   "cell_type": "markdown",
   "id": "ccd2bad2",
   "metadata": {},
   "source": [
    "Grab runner 840 to export"
   ]
  },
  {
   "cell_type": "code",
   "execution_count": null,
   "id": "bd59da07",
   "metadata": {},
   "outputs": [],
   "source": [
    "#function to round decimals to tenth place \n",
    "def round_to_hundredths(df):\n",
    "    for col in df.select_dtypes(include='number').columns:\n",
    "        # Only round if any value has more than 2 decimal places\n",
    "        if (df[col] % 1).round(3).ne((df[col] % 1).round(2)).any():\n",
    "            df[col] = df[col].round(2)\n",
    "    return df\n"
   ]
  },
  {
   "cell_type": "code",
   "execution_count": 3,
   "id": "dfb12f4a",
   "metadata": {},
   "outputs": [
    {
     "ename": "NameError",
     "evalue": "name 'measures_test' is not defined",
     "output_type": "error",
     "traceback": [
      "\u001b[1;31m---------------------------------------------------------------------------\u001b[0m",
      "\u001b[1;31mNameError\u001b[0m                                 Traceback (most recent call last)",
      "Cell \u001b[1;32mIn[3], line 2\u001b[0m\n\u001b[0;32m      1\u001b[0m runner_id \u001b[38;5;241m=\u001b[39m \u001b[38;5;124m\"\u001b[39m\u001b[38;5;124m840_1\u001b[39m\u001b[38;5;124m\"\u001b[39m\n\u001b[1;32m----> 2\u001b[0m runner_df \u001b[38;5;241m=\u001b[39m \u001b[43mmeasures_test\u001b[49m[measures_test[\u001b[38;5;124m\"\u001b[39m\u001b[38;5;124mID_test\u001b[39m\u001b[38;5;124m\"\u001b[39m] \u001b[38;5;241m==\u001b[39m runner_id]\u001b[38;5;241m.\u001b[39mcopy()\n\u001b[0;32m      4\u001b[0m \u001b[38;5;66;03m#round values\u001b[39;00m\n\u001b[0;32m      5\u001b[0m runner_df \u001b[38;5;241m=\u001b[39m round_to_hundredths(runner_df)\n",
      "\u001b[1;31mNameError\u001b[0m: name 'measures_test' is not defined"
     ]
    }
   ],
   "source": [
    "runner_id = \"840_1\"\n",
    "runner_df = measures_test[measures_test[\"ID_test\"] == runner_id].copy()\n",
    "\n",
    "#round values\n",
    "runner_df = round_to_hundredths(runner_df)\n",
    "# Export for D3 animation\n",
    "runner_df.to_csv(\"clean_runner_840.csv\", index=False)"
   ]
  },
  {
   "cell_type": "code",
   "execution_count": null,
   "id": "6efcfe50",
   "metadata": {},
   "outputs": [],
   "source": []
  },
  {
   "cell_type": "code",
   "execution_count": null,
   "id": "a2eae80c",
   "metadata": {},
   "outputs": [],
   "source": []
  },
  {
   "cell_type": "code",
   "execution_count": null,
   "id": "dde0ed15",
   "metadata": {},
   "outputs": [],
   "source": []
  },
  {
   "cell_type": "code",
   "execution_count": null,
   "id": "b1fbeeec",
   "metadata": {},
   "outputs": [],
   "source": []
  },
  {
   "cell_type": "code",
   "execution_count": null,
   "id": "797dd19b",
   "metadata": {},
   "outputs": [],
   "source": []
  },
  {
   "cell_type": "code",
   "execution_count": null,
   "id": "1fb4d8b3",
   "metadata": {},
   "outputs": [],
   "source": []
  },
  {
   "cell_type": "code",
   "execution_count": null,
   "id": "ab196fc5",
   "metadata": {},
   "outputs": [],
   "source": []
  },
  {
   "cell_type": "code",
   "execution_count": null,
   "id": "a8668ac2",
   "metadata": {},
   "outputs": [],
   "source": []
  },
  {
   "cell_type": "code",
   "execution_count": null,
   "id": "e7f8be65",
   "metadata": {},
   "outputs": [],
   "source": []
  }
 ],
 "metadata": {
  "kernelspec": {
   "display_name": "dsc80",
   "language": "python",
   "name": "python3"
  },
  "language_info": {
   "codemirror_mode": {
    "name": "ipython",
    "version": 3
   },
   "file_extension": ".py",
   "mimetype": "text/x-python",
   "name": "python",
   "nbconvert_exporter": "python",
   "pygments_lexer": "ipython3",
   "version": "3.12.8"
  }
 },
 "nbformat": 4,
 "nbformat_minor": 5
}
